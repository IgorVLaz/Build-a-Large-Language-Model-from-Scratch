{
 "cells": [
  {
   "cell_type": "markdown",
   "id": "3011deaa-af07-48fc-95e2-a305c6f43966",
   "metadata": {},
   "source": [
    "# Data preporation"
   ]
  },
  {
   "cell_type": "markdown",
   "id": "c02ba235-673b-40d5-b670-426d8f74bb5f",
   "metadata": {},
   "source": [
    "## Simple Tokenizer"
   ]
  },
  {
   "cell_type": "code",
   "execution_count": 1,
   "id": "89de94f4-68df-4c30-a8b2-6dc6e42a5040",
   "metadata": {},
   "outputs": [
    {
     "data": {
      "text/plain": [
       "('the-verdict.txt', <http.client.HTTPMessage at 0x1c7c64abb10>)"
      ]
     },
     "execution_count": 1,
     "metadata": {},
     "output_type": "execute_result"
    }
   ],
   "source": [
    "import urllib.request\n",
    "url = (\"https://raw.githubusercontent.com/rasbt/\"\n",
    " \"LLMs-from-scratch/main/ch02/01_main-chapter-code/\"\n",
    " \"the-verdict.txt\")\n",
    "file_path = \"the-verdict.txt\"\n",
    "urllib.request.urlretrieve(url, file_path)"
   ]
  },
  {
   "cell_type": "code",
   "execution_count": 2,
   "id": "c479df28-e723-4365-8ec4-47bcb30cfbc2",
   "metadata": {},
   "outputs": [
    {
     "name": "stdout",
     "output_type": "stream",
     "text": [
      "Total number of character: 20479\n",
      "I HAD always thought Jack Gisburn rather a cheap genius--though a good fellow enough--so it was no \n"
     ]
    }
   ],
   "source": [
    "with open(\"the-verdict.txt\", \"r\", encoding=\"utf-8\") as f:\n",
    " raw_text = f.read()\n",
    "print(\"Total number of character:\", len(raw_text))\n",
    "print(raw_text[:99])"
   ]
  },
  {
   "cell_type": "code",
   "execution_count": 3,
   "id": "bc2a7ec6-7416-4d97-b534-848fb0fe68fa",
   "metadata": {},
   "outputs": [],
   "source": [
    "import re"
   ]
  },
  {
   "cell_type": "code",
   "execution_count": 4,
   "id": "929cfab2-8252-4351-b05e-ee62385cfa50",
   "metadata": {},
   "outputs": [],
   "source": [
    "items = [item for item in re.split(r'([,.?_!\"()\\']|--|\\s)', raw_text) if item.strip()]"
   ]
  },
  {
   "cell_type": "code",
   "execution_count": 5,
   "id": "a314bb72-c07b-47a0-8230-f9d732787f14",
   "metadata": {},
   "outputs": [],
   "source": [
    "all_words = sorted(set(items))\n",
    "vocab = {word:i for i, word in enumerate(all_words)}"
   ]
  },
  {
   "cell_type": "code",
   "execution_count": 6,
   "id": "d458e3a2-ec3a-4f9e-8261-8f36aecf3784",
   "metadata": {},
   "outputs": [],
   "source": [
    "class SimpleTokenizerV1():\n",
    "\n",
    "    def __init__(self, vocab):\n",
    "        self.str_to_int = vocab.copy()\n",
    "        self.int_to_str = {idx:item for item, idx in vocab.items()}\n",
    "\n",
    "    def encode(self, text):\n",
    "        items = [item for item in re.split(r'([,.?_!\"()\\']|--|\\s)', text) if item.strip()]\n",
    "        return [self.str_to_int[item] for item in items]\n",
    "\n",
    "    def decode(self, tokens):\n",
    "        text = ' '.join(self.int_to_str[token] for token in tokens)\n",
    "        text = re.sub(r'\\s+([,.?!\"()\\'])', r'\\1', text) \n",
    "        return text"
   ]
  },
  {
   "cell_type": "code",
   "execution_count": 7,
   "id": "08af9586-f8ce-426a-9414-9a6ed659b61d",
   "metadata": {},
   "outputs": [],
   "source": [
    "simple_tokenizer = SimpleTokenizerV1(vocab)"
   ]
  },
  {
   "cell_type": "code",
   "execution_count": 8,
   "id": "ff5644fd-a69f-4b59-88d3-ff9b835fe50c",
   "metadata": {},
   "outputs": [],
   "source": [
    "tokens = simple_tokenizer.encode(raw_text[:98])"
   ]
  },
  {
   "cell_type": "code",
   "execution_count": 9,
   "id": "8a3d354e-3f2a-4f9f-bd10-f56879a60958",
   "metadata": {},
   "outputs": [],
   "source": [
    "decoded_tokens = simple_tokenizer.decode(tokens)"
   ]
  },
  {
   "cell_type": "code",
   "execution_count": 10,
   "id": "b79746b3-2478-4456-8d4b-a5efee5cdd18",
   "metadata": {},
   "outputs": [
    {
     "data": {
      "text/plain": [
       "'I HAD always thought Jack Gisburn rather a cheap genius--though a good fellow enough--so it was no'"
      ]
     },
     "execution_count": 10,
     "metadata": {},
     "output_type": "execute_result"
    }
   ],
   "source": [
    "raw_text[:98]"
   ]
  },
  {
   "cell_type": "code",
   "execution_count": 11,
   "id": "81a1e0c0-59b0-441e-998a-df04ae73fcd6",
   "metadata": {},
   "outputs": [
    {
     "name": "stdout",
     "output_type": "stream",
     "text": [
      "[1, 58, 2, 872, 1013, 615, 541, 763, 5, 1155, 608, 5, 1, 69, 7, 39, 873, 1136, 773, 812, 7]\n",
      "\" It' s the last he painted, you know,\" Mrs. Gisburn said with pardonable pride.\n"
     ]
    }
   ],
   "source": [
    "text = \"\"\"\"It's the last he painted, you know,\" Mrs. Gisburn said with pardonable pride.\"\"\"\n",
    "tokens = simple_tokenizer.encode(text)\n",
    "print(tokens)\n",
    "print(simple_tokenizer.decode(tokens))"
   ]
  },
  {
   "cell_type": "code",
   "execution_count": 13,
   "id": "3344a41c-2c18-44b6-a90b-39a784903f4c",
   "metadata": {},
   "outputs": [],
   "source": [
    "vocab['<|unk|>'] = len(vocab)\n",
    "vocab['<|endoftext|>'] = len(vocab)"
   ]
  },
  {
   "cell_type": "code",
   "execution_count": 17,
   "id": "ad10a834-e36f-4c65-ad9e-b0ea817246e2",
   "metadata": {},
   "outputs": [],
   "source": [
    "class SimpleTokenizerV2():\n",
    "\n",
    "    def __init__(self, vocab):\n",
    "        self.str_to_int = vocab.copy()\n",
    "        self.int_to_str = {idx:item for item, idx in vocab.items()}\n",
    "        self.unknown_token = '<|unk|>'\n",
    "\n",
    "    def encode(self, text):\n",
    "        items = [item for item in re.split(r'([,.?_!\"()\\']|--|\\s)', text) if item.strip()]\n",
    "        items = [item if item in self.str_to_int else self.unknown_token for item in items]\n",
    "        return [self.str_to_int[item] for item in items] \n",
    "\n",
    "    def decode(self, tokens):\n",
    "        text = ' '.join(self.int_to_str[token] for token in tokens)\n",
    "        text = re.sub(r'\\s+([,.?!\"()\\'])', r'\\1', text) \n",
    "        return text"
   ]
  },
  {
   "cell_type": "code",
   "execution_count": 18,
   "id": "3b2fa503-f8e4-4128-a383-f18435583e2a",
   "metadata": {},
   "outputs": [],
   "source": [
    "simple_tokenizer_v2 = SimpleTokenizerV2(vocab)"
   ]
  },
  {
   "cell_type": "code",
   "execution_count": 20,
   "id": "91bfb2a7-40a1-4526-873d-2c166433ea5d",
   "metadata": {},
   "outputs": [
    {
     "name": "stdout",
     "output_type": "stream",
     "text": [
      "[1, 58, 2, 872, 1013, 615, 541, 763, 5, 1155, 608, 5, 1, 69, 7, 39, 873, 1136, 773, 812, 7, 1159]\n",
      "\" It' s the last he painted, you know,\" Mrs. Gisburn said with pardonable pride. <|unk|>\n"
     ]
    }
   ],
   "source": [
    "text = \"\"\"\"It's the last he painted, you know,\" Mrs. Gisburn said with pardonable pride. hello\"\"\"\n",
    "tokens = simple_tokenizer_v2.encode(text)\n",
    "print(tokens)\n",
    "print(simple_tokenizer_v2.decode(tokens))"
   ]
  },
  {
   "cell_type": "code",
   "execution_count": null,
   "id": "c3a8fee0-8071-4c74-91c6-6c7dd806df43",
   "metadata": {},
   "outputs": [],
   "source": []
  },
  {
   "cell_type": "code",
   "execution_count": 28,
   "id": "92186947-0062-4a1d-bc8e-12ae03016f30",
   "metadata": {},
   "outputs": [],
   "source": [
    "import tiktoken"
   ]
  },
  {
   "cell_type": "code",
   "execution_count": 29,
   "id": "1e6d665e-9101-44ed-8c27-5842cc3e68b0",
   "metadata": {},
   "outputs": [],
   "source": [
    "tokenizer = tiktoken.get_encoding('gpt2')"
   ]
  },
  {
   "cell_type": "code",
   "execution_count": 30,
   "id": "83f75a7a-13ef-4488-9f3e-0e0decb2de7f",
   "metadata": {},
   "outputs": [
    {
     "name": "stdout",
     "output_type": "stream",
     "text": [
      "[15496, 11, 466, 345, 588, 8887, 30, 220, 50256, 554, 262, 4252, 18250, 8812, 2114, 1659, 617, 34680, 27271, 13]\n"
     ]
    }
   ],
   "source": [
    "text = (\n",
    " \"Hello, do you like tea? <|endoftext|> In the sunlit terraces\"\n",
    " \"of someunknownPlace.\"\n",
    ")\n",
    "integers = tokenizer.encode(text, allowed_special={\"<|endoftext|>\"})\n",
    "print(integers)"
   ]
  },
  {
   "cell_type": "code",
   "execution_count": 31,
   "id": "70431efa-ef3e-4310-aa4b-b66f9e164103",
   "metadata": {},
   "outputs": [
    {
     "data": {
      "text/plain": [
       "'Hello, do you like tea? <|endoftext|> In the sunlit terracesof someunknownPlace.'"
      ]
     },
     "execution_count": 31,
     "metadata": {},
     "output_type": "execute_result"
    }
   ],
   "source": [
    "tokenizer.decode(integers)"
   ]
  },
  {
   "cell_type": "code",
   "execution_count": 35,
   "id": "2579896d-b7fb-4bf6-bfd1-6a44d341ded4",
   "metadata": {},
   "outputs": [
    {
     "name": "stdout",
     "output_type": "stream",
     "text": [
      "Ak\n",
      "w\n",
      "ir\n",
      "w\n",
      " \n",
      "ier\n"
     ]
    }
   ],
   "source": [
    "for item in tokenizer.encode( 'Akwirw ier'):\n",
    "    print(tokenizer.decode([item])) "
   ]
  },
  {
   "cell_type": "markdown",
   "id": "9a6b5266-f69a-4400-959e-eeb281954843",
   "metadata": {},
   "source": [
    "## Dataset creation"
   ]
  },
  {
   "cell_type": "code",
   "execution_count": 42,
   "id": "d7b8c2e9-2195-403e-b158-8cd2315535c1",
   "metadata": {},
   "outputs": [],
   "source": [
    "import torch\n",
    "from torch.utils.data import Dataset, DataLoader"
   ]
  },
  {
   "cell_type": "code",
   "execution_count": 38,
   "id": "a183ecf2-44fb-4131-9cca-5547d3634338",
   "metadata": {},
   "outputs": [],
   "source": [
    "enc_text = tokenizer.encode(raw_text)"
   ]
  },
  {
   "cell_type": "code",
   "execution_count": 56,
   "id": "b9c6e758-4f2d-412e-8af2-2c0ecf7c566b",
   "metadata": {},
   "outputs": [],
   "source": [
    "class GPTDatasetV1(Dataset):\n",
    "\n",
    "    def __init__(self, text, tokenizer, max_len, stride):\n",
    "        self.input_ids = []\n",
    "        self.target_ids = []\n",
    "\n",
    "        tokens = tokenizer.encode(text)\n",
    "        for i in range(0, len(tokens)-max_len, stride):\n",
    "            input_chunk = tokens[i:i+max_len]\n",
    "            target_chunk = tokens[i+1:i+max_len+1]\n",
    "            self.input_ids.append(torch.tensor(input_chunk))\n",
    "            self.target_ids.append(torch.tensor(target_chunk))\n",
    "\n",
    "    def __len__(self):\n",
    "        return len(self.input_ids) \n",
    "\n",
    "    def __getitem__(self, idx):\n",
    "        return self.input_ids[idx], self.target_ids[idx]"
   ]
  },
  {
   "cell_type": "code",
   "execution_count": 57,
   "id": "8c670e14-82ce-48fe-8342-87165ad2c001",
   "metadata": {},
   "outputs": [],
   "source": [
    "def create_dataloader_v1(text, max_len=256, \n",
    "                         stride=128, \n",
    "                         batch_size=4, \n",
    "                         shuffle=True, \n",
    "                         drop_last=True, \n",
    "                         num_workers=0):\n",
    "    tokenizer = tiktoken.get_encoding('gpt2')\n",
    "\n",
    "    dataset = GPTDatasetV1(text, tokenizer, max_len, stride)\n",
    "\n",
    "    dataloader = DataLoader(\n",
    "        dataset=dataset, \n",
    "        batch_size=batch_size,\n",
    "        shuffle=shuffle, \n",
    "        drop_last=drop_last, \n",
    "        num_workers=num_workers\n",
    "    )\n",
    "\n",
    "    return dataloader"
   ]
  },
  {
   "cell_type": "code",
   "execution_count": 58,
   "id": "ccd5ef4d-6cb2-40e8-9f32-22d967640748",
   "metadata": {},
   "outputs": [],
   "source": [
    "dataloader = create_dataloader_v1(raw_text, max_len=4, batch_size=1, stride=1, shuffle=False)"
   ]
  },
  {
   "cell_type": "code",
   "execution_count": 59,
   "id": "305f0869-45f2-47b1-80dc-9f9af4bb01aa",
   "metadata": {},
   "outputs": [
    {
     "name": "stdout",
     "output_type": "stream",
     "text": [
      "[tensor([[  40,  367, 2885, 1464]]), tensor([[ 367, 2885, 1464, 1807]])]\n"
     ]
    }
   ],
   "source": [
    "data_iter = iter(dataloader)\n",
    "first_batch = next(data_iter)\n",
    "print(first_batch)"
   ]
  },
  {
   "cell_type": "markdown",
   "id": "93fc8a1b-8605-4718-bf91-3fa4b192a5e0",
   "metadata": {},
   "source": [
    "## Embedding "
   ]
  },
  {
   "cell_type": "code",
   "execution_count": 63,
   "id": "513c4e17-083d-45f8-84db-a5d688441122",
   "metadata": {},
   "outputs": [],
   "source": [
    "vocab_size = 50257\n",
    "out_dim = 256\n",
    "max_len = 4                                                                                                                                                   "
   ]
  },
  {
   "cell_type": "code",
   "execution_count": 64,
   "id": "18e1bf86-e8a9-43cf-a02c-22fdaeba3abf",
   "metadata": {},
   "outputs": [],
   "source": [
    "token_embedding_layer = torch.nn.Embedding(vocab_size, out_dim)"
   ]
  },
  {
   "cell_type": "code",
   "execution_count": 70,
   "id": "e93f566e-08b5-498f-b24d-4e2b5b13130e",
   "metadata": {},
   "outputs": [
    {
     "name": "stdout",
     "output_type": "stream",
     "text": [
      "Token IDs:\n",
      " tensor([[   40,   367,  2885,  1464],\n",
      "        [ 1807,  3619,   402,   271],\n",
      "        [10899,  2138,   257,  7026],\n",
      "        [15632,   438,  2016,   257],\n",
      "        [  922,  5891,  1576,   438],\n",
      "        [  568,   340,   373,   645],\n",
      "        [ 1049,  5975,   284,   502],\n",
      "        [  284,  3285,   326,    11]])\n",
      "\n",
      "Inputs shape:\n",
      " torch.Size([8, 4])\n"
     ]
    }
   ],
   "source": [
    "dataloader = create_dataloader_v1(raw_text, max_len=max_len, batch_size=8, stride=max_len, shuffle=False)\n",
    "data_iter = iter(dataloader)\n",
    "inputs, targets = next(data_iter)\n",
    "print(\"Token IDs:\\n\", inputs)\n",
    "print(\"\\nInputs shape:\\n\", inputs.shape)"
   ]
  },
  {
   "cell_type": "code",
   "execution_count": 71,
   "id": "c1fe628e-354d-4636-b858-715169980701",
   "metadata": {},
   "outputs": [
    {
     "name": "stdout",
     "output_type": "stream",
     "text": [
      "torch.Size([8, 4, 256])\n"
     ]
    }
   ],
   "source": [
    "token_embeddings = token_embedding_layer(inputs)\n",
    "print(token_embeddings.shape)"
   ]
  },
  {
   "cell_type": "code",
   "execution_count": 73,
   "id": "33309aa9-566b-4593-a44b-2ffe93efa928",
   "metadata": {},
   "outputs": [],
   "source": [
    "pos_embedding_layer = torch.nn.Embedding(max_len, out_dim)\n",
    "pos_embeddings = pos_embedding_layer(torch.arange(max_len))"
   ]
  },
  {
   "cell_type": "code",
   "execution_count": 74,
   "id": "536752bc-b091-41b3-94b0-2cde4e9375f4",
   "metadata": {},
   "outputs": [
    {
     "name": "stdout",
     "output_type": "stream",
     "text": [
      "torch.Size([8, 4, 256])\n"
     ]
    }
   ],
   "source": [
    "input_embeddings = token_embeddings + pos_embeddings\n",
    "print(input_embeddings.shape)"
   ]
  }
 ],
 "metadata": {
  "kernelspec": {
   "display_name": "Python 3 (ipykernel)",
   "language": "python",
   "name": "python3"
  },
  "language_info": {
   "codemirror_mode": {
    "name": "ipython",
    "version": 3
   },
   "file_extension": ".py",
   "mimetype": "text/x-python",
   "name": "python",
   "nbconvert_exporter": "python",
   "pygments_lexer": "ipython3",
   "version": "3.13.3"
  }
 },
 "nbformat": 4,
 "nbformat_minor": 5
}
